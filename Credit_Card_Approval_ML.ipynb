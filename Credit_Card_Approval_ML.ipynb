{
  "cells": [
    {
      "cell_type": "markdown",
      "metadata": {
        "id": "view-in-github",
        "colab_type": "text"
      },
      "source": [
        "<a href=\"https://colab.research.google.com/github/sanu4satyam/Credit_Card_Approval_ML/blob/main/Credit_Card_Approval_ML.ipynb\" target=\"_parent\"><img src=\"https://colab.research.google.com/assets/colab-badge.svg\" alt=\"Open In Colab\"/></a>"
      ]
    },
    {
      "source": [
        "## 1. Credit card applications\n",
        "<p>Commercial banks receive a lot of applications for credit cards. Many of them get rejected for many reasons, like high loan balances, low income levels, or too many inquiries on an individual's credit report, for example. Manually analyzing these applications is mundane, error-prone, and time-consuming (and time is money!). Luckily, this task can be automated with the power of machine learning and pretty much every commercial bank does so nowadays. In this notebook, we will build an automatic credit card approval predictor using machine learning techniques, just like the real banks do.</p>\n",
        "<p><img src=\"https://www.danaconnect.com/wp-content/uploads/2021/06/1623959868319-1024x607.png\" alt=\"Credit card being held in hand\"></p>\n",
        "<p>We'll use the <a href=\"http://archive.ics.uci.edu/ml/datasets/credit+approval\">Credit Card Approval dataset</a> from the UCI Machine Learning Repository. The structure of this notebook is as follows:</p>\n",
        "<ul>\n",
        "<li>First, we will start off by loading and viewing the dataset.</li>\n",
        "<li>Then, the dataset has a mixture of both numerical and non-numerical features, that it contains values from different ranges, plus that it contains a number of missing entries.</li>\n",
        "<li>Preprocess the dataset to ensure the machine learning model we choose can make good predictions.</li>\n",
        "<li>After our data is in good shape, we will do some exploratory data analysis to build our intuitions.</li>\n",
        "<li>Finally, build machine learning models that can predict if an individual's application for a credit card will be accepted.</li>\n",
        "</ul>"
      ],
      "metadata": {
        "dc": {
          "key": "3"
        },
        "run_control": {
          "frozen": true
        },
        "tags": [
          "context"
        ],
        "id": "55b3e8ff-b5c5-4e2a-84cf-759ec4d30cd7"
      },
      "id": "55b3e8ff-b5c5-4e2a-84cf-759ec4d30cd7",
      "cell_type": "markdown"
    },
    {
      "source": [
        "# Import pandas\n",
        "import pandas as pd\n",
        "import warnings\n",
        "warnings.filterwarnings('ignore')\n",
        "\n",
        "# Load dataset\n",
        "cc_apps = pd.read_csv(\"/content/cc_approvals.data\", header= None)\n",
        "\n",
        "# Inspect data\n",
        "print(cc_apps.head(10))\n",
        "print(\"----    ----    ----    ----    ----    ----    ----    ----    ----    ----    ----\")\n",
        "# Inspect missing values in the dataset\n",
        "print(cc_apps.tail(10))"
      ],
      "metadata": {
        "dc": {
          "key": "3"
        },
        "tags": [
          "sample_code"
        ],
        "trusted": true,
        "colab": {
          "base_uri": "https://localhost:8080/"
        },
        "id": "d6cce154-a6d2-4408-a9e5-4c1414041273",
        "outputId": "71cf1cb9-d890-4ec9-d2f6-8f330d6db1ff"
      },
      "id": "d6cce154-a6d2-4408-a9e5-4c1414041273",
      "cell_type": "code",
      "execution_count": null,
      "outputs": [
        {
          "output_type": "stream",
          "name": "stdout",
          "text": [
            "  0      1       2  3  4   5  6      7  8  9   10 11 12     13     14 15\n",
            "0  b  30.83   0.000  u  g   w  v  1.250  t  t   1  f  g  00202      0  +\n",
            "1  a  58.67   4.460  u  g   q  h  3.040  t  t   6  f  g  00043    560  +\n",
            "2  a  24.50   0.500  u  g   q  h  1.500  t  f   0  f  g  00280    824  +\n",
            "3  b  27.83   1.540  u  g   w  v  3.750  t  t   5  t  g  00100      3  +\n",
            "4  b  20.17   5.625  u  g   w  v  1.710  t  f   0  f  s  00120      0  +\n",
            "5  b  32.08   4.000  u  g   m  v  2.500  t  f   0  t  g  00360      0  +\n",
            "6  b  33.17   1.040  u  g   r  h  6.500  t  f   0  t  g  00164  31285  +\n",
            "7  a  22.92  11.585  u  g  cc  v  0.040  t  f   0  f  g  00080   1349  +\n",
            "8  b  54.42   0.500  y  p   k  h  3.960  t  f   0  f  g  00180    314  +\n",
            "9  b  42.50   4.915  y  p   w  v  3.165  t  f   0  t  g  00052   1442  +\n",
            "----    ----    ----    ----    ----    ----    ----    ----    ----    ----    ----\n",
            "    0      1       2  3  4   5   6      7  8  9   10 11 12     13   14 15\n",
            "680  b  19.50   0.290  u  g   k   v  0.290  f  f   0  f  g  00280  364  -\n",
            "681  b  27.83   1.000  y  p   d   h  3.000  f  f   0  f  g  00176  537  -\n",
            "682  b  17.08   3.290  u  g   i   v  0.335  f  f   0  t  g  00140    2  -\n",
            "683  b  36.42   0.750  y  p   d   v  0.585  f  f   0  f  g  00240    3  -\n",
            "684  b  40.58   3.290  u  g   m   v  3.500  f  f   0  t  s  00400    0  -\n",
            "685  b  21.08  10.085  y  p   e   h  1.250  f  f   0  f  g  00260    0  -\n",
            "686  a  22.67   0.750  u  g   c   v  2.000  f  t   2  t  g  00200  394  -\n",
            "687  a  25.25  13.500  y  p  ff  ff  2.000  f  t   1  t  g  00200    1  -\n",
            "688  b  17.92   0.205  u  g  aa   v  0.040  f  f   0  f  g  00280  750  -\n",
            "689  b  35.00   3.375  u  g   c   h  8.290  f  f   0  t  g  00000    0  -\n"
          ]
        }
      ]
    },
    {
      "source": [
        "## 2. Inspecting the applications\n",
        "<p>The features of this dataset have been anonymized to protect the privacy, but <a href=\"http://rstudio-pubs-static.s3.amazonaws.com/73039_9946de135c0a49daa7a0a9eda4a67a72.html\">this blog</a> gives us a pretty good overview of the probable features. The probable features in a typical credit card application are <code>Gender</code>, <code>Age</code>, <code>Debt</code>, <code>Married</code>, <code>BankCustomer</code>, <code>EducationLevel</code>, <code>Ethnicity</code>, <code>YearsEmployed</code>, <code>PriorDefault</code>, <code>Employed</code>, <code>CreditScore</code>, <code>DriversLicense</code>, <code>Citizen</code>, <code>ZipCode</code>, <code>Income</code> and finally the <code>ApprovalStatus</code>.</p>\n",
        "<p>The co-relation among the variables are not very strong. So there's no need to treat multi-colinearity</p>"
      ],
      "metadata": {
        "dc": {
          "key": "10"
        },
        "run_control": {
          "frozen": true
        },
        "tags": [
          "context"
        ],
        "id": "3e91d902-3949-4bd9-94fd-1486849e296f"
      },
      "id": "3e91d902-3949-4bd9-94fd-1486849e296f",
      "cell_type": "markdown"
    },
    {
      "source": [
        "# Summary statistics\n",
        "cc_apps.describe()"
      ],
      "metadata": {
        "dc": {
          "key": "10"
        },
        "tags": [
          "sample_code"
        ],
        "trusted": true,
        "colab": {
          "base_uri": "https://localhost:8080/",
          "height": 300
        },
        "id": "8009d245-4c06-44c3-8748-b14678b74ca4",
        "outputId": "93bcd585-8afa-4c40-fd35-d72270e9640a"
      },
      "id": "8009d245-4c06-44c3-8748-b14678b74ca4",
      "cell_type": "code",
      "execution_count": null,
      "outputs": [
        {
          "output_type": "execute_result",
          "data": {
            "text/plain": [
              "               2           7          10             14\n",
              "count  690.000000  690.000000  690.00000     690.000000\n",
              "mean     4.758725    2.223406    2.40000    1017.385507\n",
              "std      4.978163    3.346513    4.86294    5210.102598\n",
              "min      0.000000    0.000000    0.00000       0.000000\n",
              "25%      1.000000    0.165000    0.00000       0.000000\n",
              "50%      2.750000    1.000000    0.00000       5.000000\n",
              "75%      7.207500    2.625000    3.00000     395.500000\n",
              "max     28.000000   28.500000   67.00000  100000.000000"
            ],
            "text/html": [
              "\n",
              "  <div id=\"df-5817fceb-01c7-4162-9a31-d676d76199cf\">\n",
              "    <div class=\"colab-df-container\">\n",
              "      <div>\n",
              "<style scoped>\n",
              "    .dataframe tbody tr th:only-of-type {\n",
              "        vertical-align: middle;\n",
              "    }\n",
              "\n",
              "    .dataframe tbody tr th {\n",
              "        vertical-align: top;\n",
              "    }\n",
              "\n",
              "    .dataframe thead th {\n",
              "        text-align: right;\n",
              "    }\n",
              "</style>\n",
              "<table border=\"1\" class=\"dataframe\">\n",
              "  <thead>\n",
              "    <tr style=\"text-align: right;\">\n",
              "      <th></th>\n",
              "      <th>2</th>\n",
              "      <th>7</th>\n",
              "      <th>10</th>\n",
              "      <th>14</th>\n",
              "    </tr>\n",
              "  </thead>\n",
              "  <tbody>\n",
              "    <tr>\n",
              "      <th>count</th>\n",
              "      <td>690.000000</td>\n",
              "      <td>690.000000</td>\n",
              "      <td>690.00000</td>\n",
              "      <td>690.000000</td>\n",
              "    </tr>\n",
              "    <tr>\n",
              "      <th>mean</th>\n",
              "      <td>4.758725</td>\n",
              "      <td>2.223406</td>\n",
              "      <td>2.40000</td>\n",
              "      <td>1017.385507</td>\n",
              "    </tr>\n",
              "    <tr>\n",
              "      <th>std</th>\n",
              "      <td>4.978163</td>\n",
              "      <td>3.346513</td>\n",
              "      <td>4.86294</td>\n",
              "      <td>5210.102598</td>\n",
              "    </tr>\n",
              "    <tr>\n",
              "      <th>min</th>\n",
              "      <td>0.000000</td>\n",
              "      <td>0.000000</td>\n",
              "      <td>0.00000</td>\n",
              "      <td>0.000000</td>\n",
              "    </tr>\n",
              "    <tr>\n",
              "      <th>25%</th>\n",
              "      <td>1.000000</td>\n",
              "      <td>0.165000</td>\n",
              "      <td>0.00000</td>\n",
              "      <td>0.000000</td>\n",
              "    </tr>\n",
              "    <tr>\n",
              "      <th>50%</th>\n",
              "      <td>2.750000</td>\n",
              "      <td>1.000000</td>\n",
              "      <td>0.00000</td>\n",
              "      <td>5.000000</td>\n",
              "    </tr>\n",
              "    <tr>\n",
              "      <th>75%</th>\n",
              "      <td>7.207500</td>\n",
              "      <td>2.625000</td>\n",
              "      <td>3.00000</td>\n",
              "      <td>395.500000</td>\n",
              "    </tr>\n",
              "    <tr>\n",
              "      <th>max</th>\n",
              "      <td>28.000000</td>\n",
              "      <td>28.500000</td>\n",
              "      <td>67.00000</td>\n",
              "      <td>100000.000000</td>\n",
              "    </tr>\n",
              "  </tbody>\n",
              "</table>\n",
              "</div>\n",
              "      <button class=\"colab-df-convert\" onclick=\"convertToInteractive('df-5817fceb-01c7-4162-9a31-d676d76199cf')\"\n",
              "              title=\"Convert this dataframe to an interactive table.\"\n",
              "              style=\"display:none;\">\n",
              "        \n",
              "  <svg xmlns=\"http://www.w3.org/2000/svg\" height=\"24px\"viewBox=\"0 0 24 24\"\n",
              "       width=\"24px\">\n",
              "    <path d=\"M0 0h24v24H0V0z\" fill=\"none\"/>\n",
              "    <path d=\"M18.56 5.44l.94 2.06.94-2.06 2.06-.94-2.06-.94-.94-2.06-.94 2.06-2.06.94zm-11 1L8.5 8.5l.94-2.06 2.06-.94-2.06-.94L8.5 2.5l-.94 2.06-2.06.94zm10 10l.94 2.06.94-2.06 2.06-.94-2.06-.94-.94-2.06-.94 2.06-2.06.94z\"/><path d=\"M17.41 7.96l-1.37-1.37c-.4-.4-.92-.59-1.43-.59-.52 0-1.04.2-1.43.59L10.3 9.45l-7.72 7.72c-.78.78-.78 2.05 0 2.83L4 21.41c.39.39.9.59 1.41.59.51 0 1.02-.2 1.41-.59l7.78-7.78 2.81-2.81c.8-.78.8-2.07 0-2.86zM5.41 20L4 18.59l7.72-7.72 1.47 1.35L5.41 20z\"/>\n",
              "  </svg>\n",
              "      </button>\n",
              "      \n",
              "  <style>\n",
              "    .colab-df-container {\n",
              "      display:flex;\n",
              "      flex-wrap:wrap;\n",
              "      gap: 12px;\n",
              "    }\n",
              "\n",
              "    .colab-df-convert {\n",
              "      background-color: #E8F0FE;\n",
              "      border: none;\n",
              "      border-radius: 50%;\n",
              "      cursor: pointer;\n",
              "      display: none;\n",
              "      fill: #1967D2;\n",
              "      height: 32px;\n",
              "      padding: 0 0 0 0;\n",
              "      width: 32px;\n",
              "    }\n",
              "\n",
              "    .colab-df-convert:hover {\n",
              "      background-color: #E2EBFA;\n",
              "      box-shadow: 0px 1px 2px rgba(60, 64, 67, 0.3), 0px 1px 3px 1px rgba(60, 64, 67, 0.15);\n",
              "      fill: #174EA6;\n",
              "    }\n",
              "\n",
              "    [theme=dark] .colab-df-convert {\n",
              "      background-color: #3B4455;\n",
              "      fill: #D2E3FC;\n",
              "    }\n",
              "\n",
              "    [theme=dark] .colab-df-convert:hover {\n",
              "      background-color: #434B5C;\n",
              "      box-shadow: 0px 1px 3px 1px rgba(0, 0, 0, 0.15);\n",
              "      filter: drop-shadow(0px 1px 2px rgba(0, 0, 0, 0.3));\n",
              "      fill: #FFFFFF;\n",
              "    }\n",
              "  </style>\n",
              "\n",
              "      <script>\n",
              "        const buttonEl =\n",
              "          document.querySelector('#df-5817fceb-01c7-4162-9a31-d676d76199cf button.colab-df-convert');\n",
              "        buttonEl.style.display =\n",
              "          google.colab.kernel.accessAllowed ? 'block' : 'none';\n",
              "\n",
              "        async function convertToInteractive(key) {\n",
              "          const element = document.querySelector('#df-5817fceb-01c7-4162-9a31-d676d76199cf');\n",
              "          const dataTable =\n",
              "            await google.colab.kernel.invokeFunction('convertToInteractive',\n",
              "                                                     [key], {});\n",
              "          if (!dataTable) return;\n",
              "\n",
              "          const docLinkHtml = 'Like what you see? Visit the ' +\n",
              "            '<a target=\"_blank\" href=https://colab.research.google.com/notebooks/data_table.ipynb>data table notebook</a>'\n",
              "            + ' to learn more about interactive tables.';\n",
              "          element.innerHTML = '';\n",
              "          dataTable['output_type'] = 'display_data';\n",
              "          await google.colab.output.renderOutput(dataTable, element);\n",
              "          const docLink = document.createElement('div');\n",
              "          docLink.innerHTML = docLinkHtml;\n",
              "          element.appendChild(docLink);\n",
              "        }\n",
              "      </script>\n",
              "    </div>\n",
              "  </div>\n",
              "  "
            ]
          },
          "metadata": {},
          "execution_count": 2
        }
      ]
    },
    {
      "cell_type": "code",
      "source": [
        "# DataFrame information\n",
        "cc_apps.info()"
      ],
      "metadata": {
        "colab": {
          "base_uri": "https://localhost:8080/"
        },
        "id": "6K8IFRJBXXVo",
        "outputId": "619d9686-bebe-42e3-e3cf-adee1e181ff7"
      },
      "id": "6K8IFRJBXXVo",
      "execution_count": null,
      "outputs": [
        {
          "output_type": "stream",
          "name": "stdout",
          "text": [
            "<class 'pandas.core.frame.DataFrame'>\n",
            "RangeIndex: 690 entries, 0 to 689\n",
            "Data columns (total 16 columns):\n",
            " #   Column  Non-Null Count  Dtype  \n",
            "---  ------  --------------  -----  \n",
            " 0   0       690 non-null    object \n",
            " 1   1       690 non-null    object \n",
            " 2   2       690 non-null    float64\n",
            " 3   3       690 non-null    object \n",
            " 4   4       690 non-null    object \n",
            " 5   5       690 non-null    object \n",
            " 6   6       690 non-null    object \n",
            " 7   7       690 non-null    float64\n",
            " 8   8       690 non-null    object \n",
            " 9   9       690 non-null    object \n",
            " 10  10      690 non-null    int64  \n",
            " 11  11      690 non-null    object \n",
            " 12  12      690 non-null    object \n",
            " 13  13      690 non-null    object \n",
            " 14  14      690 non-null    int64  \n",
            " 15  15      690 non-null    object \n",
            "dtypes: float64(2), int64(2), object(12)\n",
            "memory usage: 86.4+ KB\n"
          ]
        }
      ]
    },
    {
      "cell_type": "code",
      "source": [
        "#Finding Correlation\n",
        "import matplotlib.pyplot as plt\n",
        "import seaborn as sns\n",
        "plt.figure(figsize=(10,8))\n",
        "sns.heatmap(cc_apps.corr(), annot= True, cmap=\"YlOrBr\")\n",
        "plt.show()"
      ],
      "metadata": {
        "colab": {
          "base_uri": "https://localhost:8080/",
          "height": 487
        },
        "id": "ViQa4WzYbKKG",
        "outputId": "1bd2ac1b-e58d-4653-bc78-f2701270806a"
      },
      "id": "ViQa4WzYbKKG",
      "execution_count": null,
      "outputs": [
        {
          "output_type": "display_data",
          "data": {
            "text/plain": [
              "<Figure size 720x576 with 2 Axes>"
            ],
            "image/png": "[encoded data removed]"
          },
          "metadata": {
            "needs_background": "light"
          }
        }
      ]
    },
    {
      "source": [
        "## 3. Splitting the dataset into train and test sets\n",
        "<p>Split our data into train set and test set to prepare our data for two different phases of machine learning modeling: <strong>\"Training and Testing\"</strong>.</p>\n",
        "<p>Features like <code>DriversLicense</code> and <code>ZipCode</code> are not as important as the other features in the dataset for predicting credit card approvals. Dropping them to design our machine learning model with the best set of features. </p>"
      ],
      "metadata": {
        "dc": {
          "key": "17"
        },
        "run_control": {
          "frozen": true
        },
        "tags": [
          "context"
        ],
        "id": "ecaaaa62-0e75-44ef-89a5-703596610017"
      },
      "id": "ecaaaa62-0e75-44ef-89a5-703596610017",
      "cell_type": "markdown"
    },
    {
      "source": [
        "# Importing train_test_split\n",
        "from sklearn.model_selection import train_test_split\n",
        "\n",
        "# Droping the features 11 and 13\n",
        "cc_apps = cc_apps.drop([11,13], axis=1)\n",
        "\n",
        "# Spliting into train and test sets\n",
        "cc_apps_train, cc_apps_test = train_test_split(cc_apps, test_size=0.25, random_state= 1)"
      ],
      "metadata": {
        "dc": {
          "key": "17"
        },
        "tags": [
          "sample_code"
        ],
        "trusted": true,
        "id": "7ab8d30a-b76a-489b-8c4a-685685297100"
      },
      "id": "7ab8d30a-b76a-489b-8c4a-685685297100",
      "cell_type": "code",
      "execution_count": null,
      "outputs": []
    },
    {
      "source": [
        "## 4. Handling the missing values\n",
        "The missing values in the dataset are labeled with '?'."
      ],
      "metadata": {
        "dc": {
          "key": "24"
        },
        "run_control": {
          "frozen": true
        },
        "tags": [
          "context"
        ],
        "id": "530e1e21-2fe5-486d-9de4-ab7bec3e857b"
      },
      "id": "530e1e21-2fe5-486d-9de4-ab7bec3e857b",
      "cell_type": "markdown"
    },
    {
      "source": [
        "import numpy as np\n",
        "\n",
        "# Replacing '?'s with NaN in the train and test sets\n",
        "cc_apps_train = cc_apps_train.replace('?', np.nan)\n",
        "cc_apps_test = cc_apps_test.replace('?', np.nan)"
      ],
      "metadata": {
        "dc": {
          "key": "24"
        },
        "tags": [
          "sample_code"
        ],
        "trusted": true,
        "id": "f0438f7b-d765-4b82-bcc3-7e427f79a087"
      },
      "id": "f0438f7b-d765-4b82-bcc3-7e427f79a087",
      "cell_type": "code",
      "execution_count": null,
      "outputs": []
    },
    {
      "source": [
        "# Imputing the missing values with mean\n",
        "cc_apps_train.fillna(cc_apps_train.mean(), inplace=True)\n",
        "cc_apps_test.fillna(cc_apps_test.mean(), inplace=True)\n",
        "\n",
        "# Counting the number of NaNs\n",
        "print(cc_apps_train.isna().sum())\n",
        "print(cc_apps_test.isna().sum())"
      ],
      "metadata": {
        "dc": {
          "key": "31"
        },
        "tags": [
          "sample_code"
        ],
        "trusted": true,
        "colab": {
          "base_uri": "https://localhost:8080/"
        },
        "id": "89e6c12b-f64c-4ef6-99f0-ce2c50ff2011",
        "outputId": "1a65695e-76ad-4319-a642-8ee0008858af"
      },
      "id": "89e6c12b-f64c-4ef6-99f0-ce2c50ff2011",
      "cell_type": "code",
      "execution_count": null,
      "outputs": [
        {
          "output_type": "stream",
          "name": "stdout",
          "text": [
            "0      7\n",
            "1     10\n",
            "2      0\n",
            "3      6\n",
            "4      6\n",
            "5      7\n",
            "6      7\n",
            "7      0\n",
            "8      0\n",
            "9      0\n",
            "10     0\n",
            "12     0\n",
            "14     0\n",
            "15     0\n",
            "dtype: int64\n",
            "0     5\n",
            "1     2\n",
            "2     0\n",
            "3     0\n",
            "4     0\n",
            "5     2\n",
            "6     2\n",
            "7     0\n",
            "8     0\n",
            "9     0\n",
            "10    0\n",
            "12    0\n",
            "14    0\n",
            "15    0\n",
            "dtype: int64\n"
          ]
        }
      ]
    },
    {
      "source": [
        "<p>Imputing these missing values with the <strong>most frequent values (Mode)</strong> as present in the respective columns. </p>"
      ],
      "metadata": {
        "dc": {
          "key": "38"
        },
        "run_control": {
          "frozen": true
        },
        "tags": [
          "context"
        ],
        "id": "1384e804-1f1c-4868-8db7-03741a3a6b9f"
      },
      "id": "1384e804-1f1c-4868-8db7-03741a3a6b9f",
      "cell_type": "markdown"
    },
    {
      "source": [
        "#Filling Mode in Categorical Columns\n",
        "for col in cc_apps_train.columns:\n",
        "    if cc_apps_train[col].dtypes == 'object':\n",
        "        cc_apps_train = cc_apps_train.fillna(cc_apps_train[col].mode()[0])\n",
        "        cc_apps_test = cc_apps_test.fillna(cc_apps_test[col].mode()[0])\n",
        "\n",
        "\n",
        "print(cc_apps_train.isna().sum())\n",
        "print(cc_apps_test.isna().sum())"
      ],
      "metadata": {
        "dc": {
          "key": "38"
        },
        "tags": [
          "sample_code"
        ],
        "trusted": true,
        "colab": {
          "base_uri": "https://localhost:8080/"
        },
        "id": "0227f274-e927-4e1c-9ade-1173b1b75c49",
        "outputId": "a8c64481-7089-448f-c2a2-f4bca127a4d9"
      },
      "id": "0227f274-e927-4e1c-9ade-1173b1b75c49",
      "cell_type": "code",
      "execution_count": null,
      "outputs": [
        {
          "output_type": "stream",
          "name": "stdout",
          "text": [
            "0     0\n",
            "1     0\n",
            "2     0\n",
            "3     0\n",
            "4     0\n",
            "5     0\n",
            "6     0\n",
            "7     0\n",
            "8     0\n",
            "9     0\n",
            "10    0\n",
            "12    0\n",
            "14    0\n",
            "15    0\n",
            "dtype: int64\n",
            "0     0\n",
            "1     0\n",
            "2     0\n",
            "3     0\n",
            "4     0\n",
            "5     0\n",
            "6     0\n",
            "7     0\n",
            "8     0\n",
            "9     0\n",
            "10    0\n",
            "12    0\n",
            "14    0\n",
            "15    0\n",
            "dtype: int64\n"
          ]
        }
      ]
    },
    {
      "source": [
        "## 5. Preprocessing the data\n",
        "*   Converting the non-numeric data into numeric.\n",
        "*   Scaling the feature values to a uniform range."
      ],
      "metadata": {
        "dc": {
          "key": "45"
        },
        "run_control": {
          "frozen": true
        },
        "tags": [
          "context"
        ],
        "id": "34929629-75cb-4b3e-983f-23a7e35b4269"
      },
      "id": "34929629-75cb-4b3e-983f-23a7e35b4269",
      "cell_type": "markdown"
    },
    {
      "source": [
        "# Converting the categorical features in the train and test sets independently\n",
        "cc_apps_train = pd.get_dummies(cc_apps_train, drop_first= True)\n",
        "cc_apps_test = pd.get_dummies(cc_apps_test, drop_first= True)\n",
        "\n",
        "# Reindexing the columns of the test set aligning with the train set\n",
        "cc_apps_test = cc_apps_test.reindex(columns= cc_apps_train.columns, fill_value= 0)"
      ],
      "metadata": {
        "dc": {
          "key": "45"
        },
        "tags": [
          "sample_code"
        ],
        "collapsed": true,
        "jupyter": {
          "outputs_hidden": true
        },
        "trusted": true,
        "id": "76b63083-090a-4679-83d7-b3edb67fb5e5"
      },
      "id": "76b63083-090a-4679-83d7-b3edb67fb5e5",
      "cell_type": "code",
      "execution_count": null,
      "outputs": []
    },
    {
      "source": [
        "# Importing MinMaxScaler\n",
        "from sklearn.preprocessing import MinMaxScaler\n",
        "\n",
        "# Segregating features and labels into separate variables\n",
        "X_train, y_train = cc_apps_train.iloc[:,:-1].values, cc_apps_train.iloc[:,[-1]].values\n",
        "X_test, y_test = cc_apps_test.iloc[:,:-1].values, cc_apps_test.iloc[:,[-1]].values\n",
        "\n",
        "# MinMaxScaler to rescale X_train and X_test\n",
        "scaler = MinMaxScaler()\n",
        "rescaledX_train = scaler.fit_transform(X_train)\n",
        "rescaledX_test = scaler.transform(X_test)"
      ],
      "metadata": {
        "dc": {
          "key": "52"
        },
        "tags": [
          "sample_code"
        ],
        "trusted": true,
        "id": "e5472401-eb9c-4f0b-8400-6ffcf24e0462"
      },
      "id": "e5472401-eb9c-4f0b-8400-6ffcf24e0462",
      "cell_type": "code",
      "execution_count": null,
      "outputs": []
    },
    {
      "source": [
        "## 6. Fitting classification models to the train set\n",
        "<p>Essentially, predicting if a credit card application will be approved or not is a <strong>Classification</strong> task. According to UCI, our dataset contains more instances that correspond to <strong>\"Denied\"</strong> status than instances corresponding to <strong>\"Approved\"</strong> status. Specifically, out of <strong>690 instances</strong>, there are <strong>383 (55.5%)</strong> applications that got denied and <strong>307 (44.5%)</strong> applications that got approved. </p>\n",
        "\n",
        "<p>Also, the dataset is not imbalanced."
      ],
      "metadata": {
        "dc": {
          "key": "59"
        },
        "run_control": {
          "frozen": true
        },
        "tags": [
          "context"
        ],
        "id": "466a4340-18dd-420a-a361-4bf672a85bd3"
      },
      "id": "466a4340-18dd-420a-a361-4bf672a85bd3",
      "cell_type": "markdown"
    },
    {
      "source": [
        "# Importing LogisticRegression\n",
        "from sklearn.linear_model import LogisticRegression\n",
        "\n",
        "# Instantiating a LogisticRegression classifier with default parameter values\n",
        "logreg = LogisticRegression()\n",
        "\n",
        "# Fitting logreg to the train set\n",
        "logreg.fit(rescaledX_train, y_train)"
      ],
      "metadata": {
        "dc": {
          "key": "59"
        },
        "tags": [
          "sample_code"
        ],
        "trusted": true,
        "colab": {
          "base_uri": "https://localhost:8080/"
        },
        "id": "c2184212-077b-4252-97fe-49b88b390b61",
        "outputId": "a8330eff-8167-434e-e2ec-bad99e82b095"
      },
      "id": "c2184212-077b-4252-97fe-49b88b390b61",
      "cell_type": "code",
      "execution_count": null,
      "outputs": [
        {
          "output_type": "execute_result",
          "data": {
            "text/plain": [
              "LogisticRegression()"
            ]
          },
          "metadata": {},
          "execution_count": 11
        }
      ]
    },
    {
      "source": [
        "## 7. Making predictions and evaluating performance\n",
        "<p>Evaluating the model on the test set with respect to <strong>classification accuracy</strong>. Also take a look the model's <strong>confusion matrix</strong>.  </p>"
      ],
      "metadata": {
        "dc": {
          "key": "66"
        },
        "run_control": {
          "frozen": true
        },
        "tags": [
          "context"
        ],
        "id": "a3925059-e92f-4b2d-8020-61c7e49567a4"
      },
      "id": "a3925059-e92f-4b2d-8020-61c7e49567a4",
      "cell_type": "markdown"
    },
    {
      "source": [
        "# Importing confusion_matrix\n",
        "from sklearn.metrics import confusion_matrix, ConfusionMatrixDisplay\n",
        "\n",
        "# Use logreg to predict instances from the test set and store it\n",
        "y_pred = logreg.predict(rescaledX_test)\n",
        "\n",
        "# Get the accuracy score of logreg model and print it\n",
        "print(\"Accuracy of logistic regression classifier: \", logreg.score(rescaledX_test, y_test))\n",
        "\n",
        "# Classification Report\n",
        "from sklearn. metrics import classification_report\n",
        "print(classification_report(y_test, y_pred))\n",
        "\n",
        "# Confusion matrix of the logreg model\n",
        "ConfusionMatrixDisplay.from_predictions(y_test, y_pred)\n",
        "plt.show()"
      ],
      "metadata": {
        "dc": {
          "key": "66"
        },
        "tags": [
          "sample_code"
        ],
        "trusted": true,
        "colab": {
          "base_uri": "https://localhost:8080/",
          "height": 462
        },
        "id": "90c140f3-596b-4de2-b1bf-6b3d5f0235b3",
        "outputId": "aa2cd0e4-2b7b-4cfa-c8d3-a05fbd311f23"
      },
      "id": "90c140f3-596b-4de2-b1bf-6b3d5f0235b3",
      "cell_type": "code",
      "execution_count": null,
      "outputs": [
        {
          "output_type": "stream",
          "name": "stdout",
          "text": [
            "Accuracy of logistic regression classifier:  0.838150289017341\n",
            "              precision    recall  f1-score   support\n",
            "\n",
            "           0       0.75      0.93      0.83        75\n",
            "           1       0.94      0.77      0.84        98\n",
            "\n",
            "    accuracy                           0.84       173\n",
            "   macro avg       0.85      0.85      0.84       173\n",
            "weighted avg       0.86      0.84      0.84       173\n",
            "\n"
          ]
        },
        {
          "output_type": "display_data",
          "data": {
            "text/plain": [
              "<Figure size 432x288 with 2 Axes>"
            ],
            "image/png": "[encoded data removed]"
          },
          "metadata": {
            "needs_background": "light"
          }
        }
      ]
    },
    {
      "source": [
        "## 8. Grid searching and making the Logistic Regressor to perform better\n",
        "<p>Model was pretty good! In fact it was able to yield an accuracy score of <strong>84%.</strong></p>\n",
        "<p>Performing <strong>grid search</strong> of the model parameters to improve the model's ability to predict credit card approvals.</p>"
      ],
      "metadata": {
        "dc": {
          "key": "73"
        },
        "run_control": {
          "frozen": true
        },
        "tags": [
          "context"
        ],
        "id": "f048f8e7-54a2-4342-a1f1-71496ae63c7e"
      },
      "id": "f048f8e7-54a2-4342-a1f1-71496ae63c7e",
      "cell_type": "markdown"
    },
    {
      "source": [
        "# Import GridSearchCV\n",
        "from sklearn.model_selection import GridSearchCV\n",
        "\n",
        "# Define the grid of values for tol and max_iter\n",
        "tol = [0.01,0.001, 0.0001]\n",
        "max_iter = [50,100,150,200]\n",
        "\n",
        "# Create a dictionary where tol and max_iter are keys and the lists of their values are corresponding values\n",
        "param_grid = dict(tol= tol, max_iter= max_iter)"
      ],
      "metadata": {
        "dc": {
          "key": "73"
        },
        "tags": [
          "sample_code"
        ],
        "trusted": true,
        "id": "01352fdc-339a-4186-bd46-346e46f51ddb"
      },
      "id": "01352fdc-339a-4186-bd46-346e46f51ddb",
      "cell_type": "code",
      "execution_count": null,
      "outputs": []
    },
    {
      "source": [
        "## 9. Finding the best performer\n",
        "<p>Grid search to see which values perform best.</p>\n",
        "<p>Instantiated <code>GridSearchCV()</code> with our earlier <code>logreg</code> model with all the data we have. Also instructed <code>GridSearchCV()</code> to perform a cross-validation</a> of five folds.</p>"
      ],
      "metadata": {
        "dc": {
          "key": "80"
        },
        "run_control": {
          "frozen": true
        },
        "tags": [
          "context"
        ],
        "id": "4660a5e6-52ac-40d3-8096-39b58076e269"
      },
      "id": "4660a5e6-52ac-40d3-8096-39b58076e269",
      "cell_type": "markdown"
    },
    {
      "source": [
        "# GridSearchCV with the required parameters\n",
        "grid_model = GridSearchCV(estimator=logreg, param_grid= param_grid, cv=5)\n",
        "\n",
        "# Fitting grid_model to the data\n",
        "grid_model_result = grid_model.fit(rescaledX_train, y_train)\n",
        "\n",
        "# Summarize results\n",
        "best_score, best_params = grid_model_result.best_score_, grid_model_result.best_params_\n",
        "print(\"Best: %f using %s\" % (best_score, best_params))\n",
        "\n",
        "# Extracting the best model\n",
        "best_model = grid_model_result.best_estimator_\n",
        "print(\"Accuracy of logistic regression classifier: \", best_model.score(rescaledX_test,y_test))"
      ],
      "metadata": {
        "dc": {
          "key": "80"
        },
        "tags": [
          "sample_code"
        ],
        "trusted": true,
        "colab": {
          "base_uri": "https://localhost:8080/"
        },
        "id": "406bfc08-bf98-4be2-a577-aa5c5a1cdd3b",
        "outputId": "470b9f18-3c8d-49f9-ac16-28282a8a183c"
      },
      "id": "406bfc08-bf98-4be2-a577-aa5c5a1cdd3b",
      "cell_type": "code",
      "execution_count": null,
      "outputs": [
        {
          "output_type": "stream",
          "name": "stdout",
          "text": [
            "Best: 0.856740 using {'max_iter': 50, 'tol': 0.01}\n",
            "Accuracy of logistic regression classifier:  0.838150289017341\n"
          ]
        }
      ]
    },
    {
      "cell_type": "markdown",
      "source": [
        "## 10. Finding the best performing model using Ensemble Models\n",
        "\n",
        "After <strong>Hyperparameter Tuning</strong> using GridSearchCV we can only able to get <strong>2%</strong> more accuracy with <strong>\"Learning Rate of 0.01, Iterations are 50 and Cross Validation of 5\"</strong>.<p> Now, Going to try Ensemble machine learning models to find the best performance</p>"
      ],
      "metadata": {
        "id": "Z-2avuu2ALhv"
      },
      "id": "Z-2avuu2ALhv"
    },
    {
      "cell_type": "code",
      "source": [
        "# Importing RandomForest, AdaBoost, GradientBoost\n",
        "from sklearn.ensemble import RandomForestClassifier, AdaBoostClassifier, GradientBoostingClassifier\n",
        "\n",
        "#Instantiating\n",
        "RF = RandomForestClassifier()\n",
        "ADA = AdaBoostClassifier()\n",
        "GB = GradientBoostingClassifier(learning_rate=0.01)\n",
        "\n",
        "Classifiers = [RF,ADA,GB]\n",
        "\n",
        "#Importing Accuracy Score\n",
        "from sklearn.metrics import accuracy_score"
      ],
      "metadata": {
        "id": "onC3G6PK_YxX"
      },
      "id": "onC3G6PK_YxX",
      "execution_count": null,
      "outputs": []
    },
    {
      "cell_type": "code",
      "source": [
        "for model in Classifiers:\n",
        "  model.fit(rescaledX_train, y_train)\n",
        "  predictions = model.predict(rescaledX_test)\n",
        "  print(model)\n",
        "  print(\"\\t Accuracy Score is: \", accuracy_score(y_test, predictions))\n",
        "  print(\"\\t Classification Report: \\n\", classification_report(y_test, predictions))\n",
        "  print(\"\\t Confusion Matrix: \\n\")\n",
        "  ConfusionMatrixDisplay.from_predictions(y_test, predictions)\n",
        "  plt.show()\n",
        "  print(\"\\n\\n\")"
      ],
      "metadata": {
        "colab": {
          "base_uri": "https://localhost:8080/",
          "height": 1000
        },
        "id": "U-WzRrHlDor_",
        "outputId": "269c0fb4-a465-4592-cedf-76aef752e893"
      },
      "id": "U-WzRrHlDor_",
      "execution_count": null,
      "outputs": [
        {
          "output_type": "stream",
          "name": "stdout",
          "text": [
            "RandomForestClassifier()\n",
            "\t Accuracy Score is:  0.9248554913294798\n",
            "\t Classification Report: \n",
            "               precision    recall  f1-score   support\n",
            "\n",
            "           0       0.91      0.92      0.91        75\n",
            "           1       0.94      0.93      0.93        98\n",
            "\n",
            "    accuracy                           0.92       173\n",
            "   macro avg       0.92      0.92      0.92       173\n",
            "weighted avg       0.93      0.92      0.92       173\n",
            "\n",
            "\t Confusion Matrix: \n",
            "\n"
          ]
        },
        {
          "output_type": "display_data",
          "data": {
            "text/plain": [
              "<Figure size 432x288 with 2 Axes>"
            ],
            "image/png": "[encoded data removed]"
          },
          "metadata": {
            "needs_background": "light"
          }
        },
        {
          "output_type": "stream",
          "name": "stdout",
          "text": [
            "\n",
            "\n",
            "\n",
            "AdaBoostClassifier()\n",
            "\t Accuracy Score is:  0.8786127167630058\n",
            "\t Classification Report: \n",
            "               precision    recall  f1-score   support\n",
            "\n",
            "           0       0.85      0.88      0.86        75\n",
            "           1       0.91      0.88      0.89        98\n",
            "\n",
            "    accuracy                           0.88       173\n",
            "   macro avg       0.88      0.88      0.88       173\n",
            "weighted avg       0.88      0.88      0.88       173\n",
            "\n",
            "\t Confusion Matrix: \n",
            "\n"
          ]
        },
        {
          "output_type": "display_data",
          "data": {
            "text/plain": [
              "<Figure size 432x288 with 2 Axes>"
            ],
            "image/png": "[encoded data removed]"
          },
          "metadata": {
            "needs_background": "light"
          }
        },
        {
          "output_type": "stream",
          "name": "stdout",
          "text": [
            "\n",
            "\n",
            "\n",
            "GradientBoostingClassifier(learning_rate=0.01)\n",
            "\t Accuracy Score is:  0.8728323699421965\n",
            "\t Classification Report: \n",
            "               precision    recall  f1-score   support\n",
            "\n",
            "           0       0.82      0.91      0.86        75\n",
            "           1       0.92      0.85      0.88        98\n",
            "\n",
            "    accuracy                           0.87       173\n",
            "   macro avg       0.87      0.88      0.87       173\n",
            "weighted avg       0.88      0.87      0.87       173\n",
            "\n",
            "\t Confusion Matrix: \n",
            "\n"
          ]
        },
        {
          "output_type": "display_data",
          "data": {
            "text/plain": [
              "<Figure size 432x288 with 2 Axes>"
            ],
            "image/png": "[encoded data removed]"
          },
          "metadata": {
            "needs_background": "light"
          }
        },
        {
          "output_type": "stream",
          "name": "stdout",
          "text": [
            "\n",
            "\n",
            "\n"
          ]
        }
      ]
    },
    {
      "cell_type": "markdown",
      "source": [
        "<p>While building this credit card predictor, tackled some of the most widely-known preprocessing steps such as <strong>scaling</strong>, <strong>label encoding</strong>, and <strong>missing value imputation</strong>. Finished with some <strong>machine learning</strong> to predict if a person's application for a credit card would get approved or not given some information about that person.</p>\n",
        "<p>The best model is <strong>RandomForestClassifier</strong> which uses Ensemble learning method using Bagging Technique. The model has accuracy score of <strong>92</strong> using deafult hyperparameters.</p>"
      ],
      "metadata": {
        "id": "xZBpNulNJAJg"
      },
      "id": "xZBpNulNJAJg"
    }
  ],
  "metadata": {
    "kernelspec": {
      "display_name": "Python 3 (ipykernel)",
      "language": "python",
      "name": "python3"
    },
    "language_info": {
      "name": "python",
      "version": "3.8.10",
      "mimetype": "text/x-python",
      "codemirror_mode": {
        "name": "ipython",
        "version": 3
      },
      "pygments_lexer": "ipython3",
      "nbconvert_exporter": "python",
      "file_extension": ".py"
    },
    "editor": "DataCamp Workspace",
    "colab": {
      "provenance": [],
      "include_colab_link": true
    }
  },
  "nbformat": 4,
  "nbformat_minor": 5
}